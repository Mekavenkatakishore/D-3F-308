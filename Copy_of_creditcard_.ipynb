{
  "cells": [
    {
      "cell_type": "markdown",
      "metadata": {
        "id": "view-in-github",
        "colab_type": "text"
      },
      "source": [
        "<a href=\"https://colab.research.google.com/github/Mekavenkatakishore/D-3F-308/blob/main/Copy_of_creditcard_.ipynb\" target=\"_parent\"><img src=\"https://colab.research.google.com/assets/colab-badge.svg\" alt=\"Open In Colab\"/></a>"
      ]
    },
    {
      "cell_type": "code",
      "execution_count": null,
      "metadata": {
        "colab": {
          "background_save": true,
          "base_uri": "https://localhost:8080/"
        },
        "id": "_nXCe--eRgjw",
        "outputId": "663de3a4-6e99-4089-82da-20bcd585c1ea"
      },
      "outputs": [
        {
          "metadata": {
            "tags": null
          },
          "name": "stdout",
          "output_type": "stream",
          "text": [
            "There are 1 missing values in the target variable 'Class'.\n"
          ]
        }
      ],
      "source": [
        "import pandas as pd\n",
        "from sklearn.preprocessing import StandardScaler\n",
        "from sklearn.impute import SimpleImputer\n",
        "from sklearn.linear_model import LogisticRegression\n",
        "\n",
        "# Load your dataset\n",
        "# Assuming your dataset is stored in a CSV file named 'creditcard.csv'\n",
        "df = pd.read_csv('/content/creditcard.csv')\n",
        "\n",
        "# Check for missing values in the target variable (y)\n",
        "missing_values_y = df['Class'].isnull().sum()\n",
        "if missing_values_y > 0:\n",
        "    print(f\"There are {missing_values_y} missing values in the target variable 'Class'.\")\n",
        "    # Drop rows with missing values in the target variable\n",
        "    df.dropna(subset=['Class'], inplace=True)\n",
        "\n",
        "# Separate features (X) and target variable (y)\n",
        "X = df.drop(columns=['Class'])  # Features\n",
        "y = df['Class']  # Target variable\n",
        "\n",
        "# Filter relevant features for scaling\n",
        "relevant_features = ['V1', 'V2', 'Amount']  # Features relevant for prediction\n",
        "X_relevant = X[relevant_features]\n",
        "\n",
        "# Standardize the relevant features\n",
        "scaler = StandardScaler()\n",
        "X_relevant_scaled = scaler.fit_transform(X_relevant)\n",
        "\n",
        "# Train a logistic regression model\n",
        "model = LogisticRegression()\n",
        "model.fit(X_relevant_scaled, y)\n",
        "\n",
        "# Take inputs from the user\n",
        "v1 = float(input(\"Enter V1: \"))\n",
        "v2 = float(input(\"Enter V2: \"))\n",
        "amount = float(input(\"Enter Amount: \"))  # New input for the amount attribute\n",
        "\n",
        "# Create user input array\n",
        "user_input = [[v1, v2, amount]]\n",
        "\n",
        "# Scale the user input using the same scaler\n",
        "user_input_scaled = scaler.transform(user_input)\n",
        "\n",
        "# Predict the class label for the user inputs\n",
        "prediction = model.predict(user_input_scaled)\n",
        "\n",
        "if prediction[0] == 0:\n",
        "    print(\"The transaction is not fraudulent.\")\n",
        "else:\n",
        "    print(\"The transaction is fraudulent.\")\n"
      ]
    },
    {
      "cell_type": "code",
      "execution_count": null,
      "metadata": {
        "id": "VEaUzIkkR1zQ"
      },
      "outputs": [],
      "source": []
    }
  ],
  "metadata": {
    "colab": {
      "provenance": [],
      "authorship_tag": "ABX9TyMqwZyTzCrhYoveuLP4DxbO",
      "include_colab_link": true
    },
    "kernelspec": {
      "display_name": "Python 3",
      "name": "python3"
    },
    "language_info": {
      "name": "python"
    }
  },
  "nbformat": 4,
  "nbformat_minor": 0
}